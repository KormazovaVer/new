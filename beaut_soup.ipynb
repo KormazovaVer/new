{
  "nbformat": 4,
  "nbformat_minor": 0,
  "metadata": {
    "colab": {
      "name": "beaut_soup.ipynb",
      "provenance": [],
      "authorship_tag": "ABX9TyOINwwtZvu5XjNpmWPWXW7o",
      "include_colab_link": true
    },
    "kernelspec": {
      "name": "python3",
      "display_name": "Python 3"
    },
    "language_info": {
      "name": "python"
    }
  },
  "cells": [
    {
      "cell_type": "markdown",
      "metadata": {
        "id": "view-in-github",
        "colab_type": "text"
      },
      "source": [
        "<a href=\"https://colab.research.google.com/github/KormazovaVer/new/blob/main/beaut_soup.ipynb\" target=\"_parent\"><img src=\"https://colab.research.google.com/assets/colab-badge.svg\" alt=\"Open In Colab\"/></a>"
      ]
    },
    {
      "cell_type": "code",
      "source": [
        "import requests\n",
        "from bs4 import BeautifulSoup"
      ],
      "metadata": {
        "id": "J7hmowYx4QvL"
      },
      "execution_count": 7,
      "outputs": []
    },
    {
      "cell_type": "code",
      "source": [
        "URL = 'https://habr.com/ru/all/'\n",
        "HUBS = ['дизайн', 'фото', 'web', 'python']\n",
        "SOURCE = requests.get(URL).text\n",
        "\n",
        "soup = BeautifulSoup(SOURCE, features='html.parser')\n",
        "\n",
        "for article in soup.find_all('article'):\n",
        "    title = article.h2.a.text\n",
        "    post_preview_text = article.div.div.text\n",
        "    post_link = article.find('a', class_='tm-article-snippet__title-link').get('href')\n",
        "    public_date = article.find('time').text\n",
        "\n",
        "    for search_word in HUBS:\n",
        "         if (search_word.lower() in title.lower()) or (search_word.lower() in post_preview_text.lower()):\n",
        "            print(f'Дата: {public_date} - Заголовок: {title} - Ссылка: {post_link}')"
      ],
      "metadata": {
        "colab": {
          "base_uri": "https://localhost:8080/"
        },
        "id": "XAkii17A4ZND",
        "outputId": "e81ee82b-16b7-4c28-8d79-1439c6e6a570"
      },
      "execution_count": 8,
      "outputs": [
        {
          "output_type": "stream",
          "name": "stdout",
          "text": [
            "Дата: сегодня в 16:08 - Заголовок: Психология в дизайне: как превратить пользователей в покупателей - Ссылка: /ru/post/664108/\n",
            "Дата: сегодня в 11:19 - Заголовок: Развертывание моделей машинного обучения. Часть первая. Размещаем Web-приложение в облачной платформе Heroku - Ссылка: /ru/post/664076/\n"
          ]
        }
      ]
    }
  ]
}